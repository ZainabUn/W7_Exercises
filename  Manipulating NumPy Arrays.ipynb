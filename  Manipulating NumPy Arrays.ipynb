{
 "cells": [
  {
   "cell_type": "code",
   "execution_count": 1,
   "id": "05a7b2c9-5d0d-49dd-9997-1834c97de50f",
   "metadata": {},
   "outputs": [],
   "source": [
    "import numpy as np"
   ]
  },
  {
   "cell_type": "markdown",
   "id": "9d2bb3aa-1bed-4752-82f7-c5311a0883fd",
   "metadata": {},
   "source": [
    "## Looping Through Arrays"
   ]
  },
  {
   "cell_type": "code",
   "execution_count": 2,
   "id": "d60b83f8-3c17-4cb5-8156-ae7901fddc4f",
   "metadata": {},
   "outputs": [],
   "source": [
    "## question 2 In a new code cell, create a variable named arrA as a two-dimensional array \n",
    "# containing (11, 12, 13) and (14, 15, 16) then print arrA. \n",
    "# ∗ In a new code cell, loop through the first dimension of arrA (i.e. for x in arrA) and \n",
    "# print each element multiplied by 2. \n",
    "# ∗ In a new code cell, loop through the second dimension of arrA (i.e. for y in x) and \n",
    "# print each element multiplied by 2. \n",
    "# ∗ Add a markdown cell. In your own words describe the difference between the \n",
    "# results for first loop and the second loop. \n",
    "# ∗ Add another code cell. Again loop through the second dimension of arrA (i.e. for y \n",
    "# in x), but this time, assign x*2 to a variable named loop_result. Add another line \n",
    "# of code to print loop_result, then add a comment to the cell to explain how/why \n",
    "# this result is different."
   ]
  },
  {
   "cell_type": "code",
   "execution_count": 3,
   "id": "3378241a-b4fa-4ecb-b241-9bb8316df6be",
   "metadata": {},
   "outputs": [
    {
     "data": {
      "text/plain": [
       "array([[11, 12, 13],\n",
       "       [14, 15, 16]])"
      ]
     },
     "execution_count": 3,
     "metadata": {},
     "output_type": "execute_result"
    }
   ],
   "source": [
    "arrA=np.array([[11,12,13],[14,15,16]])\n",
    "arrA"
   ]
  },
  {
   "cell_type": "code",
   "execution_count": 4,
   "id": "cc644e66-a689-4677-a43f-3026d104d90c",
   "metadata": {},
   "outputs": [
    {
     "name": "stdout",
     "output_type": "stream",
     "text": [
      "[22 24 26]\n",
      "[28 30 32]\n"
     ]
    }
   ],
   "source": [
    "for x in arrA:\n",
    "    print(x*2)"
   ]
  },
  {
   "cell_type": "code",
   "execution_count": 5,
   "id": "b7c61499-5585-43d9-ba65-1fe663f31340",
   "metadata": {},
   "outputs": [
    {
     "name": "stdout",
     "output_type": "stream",
     "text": [
      "22\n",
      "24\n",
      "26\n",
      "28\n",
      "30\n",
      "32\n"
     ]
    }
   ],
   "source": [
    "for x in arrA:\n",
    "    for i in x:\n",
    "        print(i*2)"
   ]
  },
  {
   "cell_type": "code",
   "execution_count": 6,
   "id": "51f98d34-7fca-46bf-be11-465003b7e27a",
   "metadata": {},
   "outputs": [],
   "source": [
    "#it seems as the dimensions chagned like the first one had the point as t20 sets but this one has all points sepeartely listed\n"
   ]
  },
  {
   "cell_type": "code",
   "execution_count": 7,
   "id": "6b887898-68b6-46fc-abbd-5ec0098009fa",
   "metadata": {},
   "outputs": [
    {
     "name": "stdout",
     "output_type": "stream",
     "text": [
      "32\n"
     ]
    }
   ],
   "source": [
    "loop_result= x*2\n",
    "for x in arrA:\n",
    "    for y in x:\n",
    "        loop_result=y*2\n",
    "print(loop_result)"
   ]
  },
  {
   "cell_type": "markdown",
   "id": "5c780044-cdb8-444a-bf3c-4663c547981b",
   "metadata": {},
   "source": [
    "# Joining and Stacking Arrays"
   ]
  },
  {
   "cell_type": "code",
   "execution_count": 8,
   "id": "3cbe1d5a-476d-49a4-9cbb-89ead8158733",
   "metadata": {},
   "outputs": [],
   "source": [
    "# Create variable joined_array_1 and assign it the value of arrA concatenated \n",
    "# with arrA on axis=0 (the default axis). Print joined_array_1. \n",
    "# ∗ Create variable joined_array_2 and assign it the value of arrA concatenated \n",
    "# with arrA on axis=1. Print joined_array_2. \n",
    "# ∗ Create variable stacked_array_1 and assign it the value of joined_array_1 \n",
    "# stacked with joined_array_1 on the default axis. Print stacked_array_1. \n",
    "# ∗ Create variable stacked_array_2 and assign it the value of joined_array_1 \n",
    "# stacked with joined_array_2 on the default axis. What error message do you \n",
    "# get? Add a comment to the cell to explain the error that comes back. \n",
    "# ∗ Create variable another_joined_array and assign it the value of \n",
    "# joined_array_1 concatenated with arrA. Print another_joined_array. \n",
    "# ∗ Create variable another_2 and again assign it the value of joined_array_1 \n",
    "# concatenated with arrA, but this time on axis=1. What happens when you try to run \n",
    "# this? Add a comment to the cell to paraphrase the error message in your own \n",
    "# words. \n",
    "# ∗ Create a cell with three new variables (named as you choose). In each variable, use \n",
    "# either the hstack(), vstack(), or dstack() function to stack arrA with arrA. \n",
    "# Add a comment after each that explains what the function is doing. Print the results \n",
    "# of each variable."
   ]
  },
  {
   "cell_type": "code",
   "execution_count": 9,
   "id": "481b0331-9d68-44f0-b6fe-f621ec43fd9e",
   "metadata": {},
   "outputs": [
    {
     "data": {
      "text/plain": [
       "array([[11, 12, 13],\n",
       "       [14, 15, 16],\n",
       "       [11, 12, 13],\n",
       "       [14, 15, 16]])"
      ]
     },
     "execution_count": 9,
     "metadata": {},
     "output_type": "execute_result"
    }
   ],
   "source": [
    "joined_array_1= np.concatenate((arrA,arrA),axis=0)\n",
    "joined_array_1"
   ]
  },
  {
   "cell_type": "code",
   "execution_count": 10,
   "id": "15ae868b-6eea-4b75-8a39-971a533bfb55",
   "metadata": {},
   "outputs": [
    {
     "data": {
      "text/plain": [
       "array([[[11, 12, 13],\n",
       "        [14, 15, 16],\n",
       "        [11, 12, 13],\n",
       "        [14, 15, 16]],\n",
       "\n",
       "       [[11, 12, 13],\n",
       "        [14, 15, 16],\n",
       "        [11, 12, 13],\n",
       "        [14, 15, 16]]])"
      ]
     },
     "execution_count": 10,
     "metadata": {},
     "output_type": "execute_result"
    }
   ],
   "source": [
    "stacked_array_1= np.stack((joined_array_1,joined_array_1))\n",
    "stacked_array_1"
   ]
  },
  {
   "cell_type": "code",
   "execution_count": 11,
   "id": "d86ec21b-d925-4175-8977-d7e89ca19ad7",
   "metadata": {},
   "outputs": [
    {
     "ename": "NameError",
     "evalue": "name 'joined_array_2' is not defined",
     "output_type": "error",
     "traceback": [
      "\u001b[1;31m---------------------------------------------------------------------------\u001b[0m",
      "\u001b[1;31mNameError\u001b[0m                                 Traceback (most recent call last)",
      "Cell \u001b[1;32mIn[11], line 1\u001b[0m\n\u001b[1;32m----> 1\u001b[0m stacked_array_2\u001b[38;5;241m=\u001b[39m np\u001b[38;5;241m.\u001b[39mstack((joined_array_1,\u001b[43mjoined_array_2\u001b[49m))\n\u001b[0;32m      2\u001b[0m stacked_array_2\n\u001b[0;32m      3\u001b[0m \u001b[38;5;66;03m## joined array 2 was not made\u001b[39;00m\n",
      "\u001b[1;31mNameError\u001b[0m: name 'joined_array_2' is not defined"
     ]
    }
   ],
   "source": [
    "stacked_array_2= np.stack((joined_array_1,joined_array_2))\n",
    "stacked_array_2\n",
    "## joined array 2 was not made"
   ]
  },
  {
   "cell_type": "code",
   "execution_count": null,
   "id": "d60af17c-ab4c-4012-b8ce-ae14f4e40e7f",
   "metadata": {},
   "outputs": [],
   "source": [
    "another_joined_array= np.concatenate((joined_array_1,arrA))\n",
    "another_joined_array"
   ]
  },
  {
   "cell_type": "code",
   "execution_count": null,
   "id": "616e967a-5538-402b-ac7b-3a80740b89f5",
   "metadata": {},
   "outputs": [],
   "source": [
    "another_2 = np.concatenate((joined_array_1,arrA))\n",
    "another_2"
   ]
  },
  {
   "cell_type": "code",
   "execution_count": null,
   "id": "1322b7d8-d007-42f9-9078-248bb8c9e62c",
   "metadata": {},
   "outputs": [],
   "source": [
    "hstackex= np.hstack((arrA,arrA))\n",
    "hstackex\n",
    "#horizontal stack like values are horizontally stacking"
   ]
  },
  {
   "cell_type": "code",
   "execution_count": null,
   "id": "e1747d36-bdaf-4a44-9582-11f7e4b9386d",
   "metadata": {},
   "outputs": [],
   "source": [
    "vstackex= np.vstack((arrA,arrA))\n",
    "vstackex\n",
    "#vertical-op top"
   ]
  },
  {
   "cell_type": "code",
   "execution_count": null,
   "id": "d4ba8371-c23d-4f37-bd08-4686758a531d",
   "metadata": {},
   "outputs": [],
   "source": [
    "dstackex= np.dstack((arrA,arrA))\n",
    "dstackex\n",
    "#d stack on top"
   ]
  },
  {
   "cell_type": "markdown",
   "id": "f20bc34d-fec1-462e-a217-62414f37713f",
   "metadata": {},
   "source": [
    "## Splitting Arrays,"
   ]
  },
  {
   "cell_type": "code",
   "execution_count": null,
   "id": "c3e55a94-95c6-45d8-bf37-f6bac7e66ae0",
   "metadata": {},
   "outputs": [],
   "source": [
    "# Create variable splitsky and assign it the value of joined_array_1 split into 2. \n",
    "# Print the variable. Then add a comment to the cell to describe the result: how many \n",
    "# arrays? Of how many dimensions each? \n",
    "# ∗ Create variable spliterino and assign it the value of joined_array_1 split \n",
    "# into 3. Print the variable. Then add a comment to the cell to describe the result: how \n",
    "# many arrays? Of how many dimensions each? \n",
    "# 5. Add a markdown cell with the header Searching and Replacing Array Values. \n",
    "# ∗ In a code cell, create variable result_1. For the value of this variable, use where() \n",
    "# to find each even number within arrA (hint, you’ll need to write a condition using % \n",
    "# and ==). If the condition is met, print the value from arrA; if not met, print 'odd'. \n",
    "# Print result_1. \n",
    "# 6. Add a markdown cell with the header Sorting and Filtering Arrays, and add a new \n",
    "# code cell for each of the following: \n",
    "# ∗ Create variable arrB as a 2-D array including the values (7,6), (13,5), and (7,3). \n",
    "# Create another variable, arrB_sorted, and assign it the sorted value of arrB. \n",
    "# Print arrB_sorted. \n",
    "# ∗ Finally, let’s filter arrB using conditional logic. Start the cell with a print statement \n",
    "# to again print the contents of arrB. Then create variable z with the value arrB < 7 \n",
    "# to look for values less than 7. Next create variable arrC, and assign it arrB[z]. \n",
    "# Print arrC. \n",
    "# ∗ Applying the same sort of structure, how would you create a new conditional logic \n",
    "# filter y to look for values greater than or equal to 7? Follow similar steps as above to \n",
    "# create a new variable arrD to hold the filtered results, and print arrD. \n"
   ]
  },
  {
   "cell_type": "code",
   "execution_count": null,
   "id": "7e7c5d25-c7ba-4e5c-bb14-26d3999b1291",
   "metadata": {},
   "outputs": [],
   "source": [
    "splitsky= np.array_split(joined_array_1, 2)\n",
    "splitsky\n",
    "#i think its 2 dimensions and two arrays"
   ]
  },
  {
   "cell_type": "code",
   "execution_count": null,
   "id": "62919541-e052-4a2d-8844-8905bdb535ab",
   "metadata": {},
   "outputs": [],
   "source": [
    "spliterino=np.array_split(joined_array_1,3)\n",
    "spliterino"
   ]
  },
  {
   "cell_type": "markdown",
   "id": "6f781e44-a629-401f-83c2-9a9344bc05a9",
   "metadata": {},
   "source": [
    "#  Searching and Replacing Array Values"
   ]
  },
  {
   "cell_type": "code",
   "execution_count": null,
   "id": "035d33da-4b2a-4f08-9d9e-cc62166efbba",
   "metadata": {},
   "outputs": [],
   "source": [
    "#   In a code cell, create variable result_1. For the value of this variable, use where() \n",
    "# to find each even number within arrA (hint, you’ll need to write a condition using % \n",
    "# and ==). If the condition is met, print the value from arrA; if not met, print 'odd'. \n",
    "# Print result_1."
   ]
  },
  {
   "cell_type": "code",
   "execution_count": null,
   "id": "3eac5c07-4045-41e8-834c-78c76fb44977",
   "metadata": {},
   "outputs": [],
   "source": [
    "result_1=  np.where(arrA%2== 0, arrA, 'odd')\n",
    "result_1"
   ]
  },
  {
   "cell_type": "markdown",
   "id": "ee7e5dcd-39c9-4ce3-a4a4-43089d02007f",
   "metadata": {},
   "source": [
    "# Sorting and Filtering Arrays"
   ]
  },
  {
   "cell_type": "code",
   "execution_count": null,
   "id": "a82fdc37-3e40-47cc-bf17-9eeb27eea3cd",
   "metadata": {},
   "outputs": [],
   "source": [
    "# Create variable arrB as a 2-D array including the values (7,6), (13,5), and (7,3). \n",
    "# Create another variable, arrB_sorted, and assign it the sorted value of arrB. \n",
    "# Print arrB_sorted. \n",
    "# ∗ Finally, let’s filter arrB using conditional logic. Start the cell with a print statement \n",
    "# to again print the contents of arrB. Then create variable z with the value arrB < 7 \n",
    "# to look for values less than 7. Next create variable arrC, and assign it arrB[z]. \n",
    "# Print arrC. \n",
    "# ∗ Applying the same sort of structure, how would you create a new conditional logic \n",
    "# filter y to look for values greater than or equal to 7? Follow similar steps as above to \n",
    "# create a new variable arrD to hold the filtered results, and print arrD."
   ]
  },
  {
   "cell_type": "code",
   "execution_count": 12,
   "id": "b9d15892-e662-4cf9-9626-c5714179f618",
   "metadata": {},
   "outputs": [
    {
     "name": "stdout",
     "output_type": "stream",
     "text": [
      "2\n"
     ]
    }
   ],
   "source": [
    "arrB= np.array([[7,6],[13,5],[7,3]])\n",
    "\n"
   ]
  },
  {
   "cell_type": "code",
   "execution_count": 14,
   "id": "0203bfc8-a968-4f77-9949-92aeb17deaf4",
   "metadata": {},
   "outputs": [
    {
     "data": {
      "text/plain": [
       "array([[ 6,  7],\n",
       "       [ 5, 13],\n",
       "       [ 3,  7]])"
      ]
     },
     "execution_count": 14,
     "metadata": {},
     "output_type": "execute_result"
    }
   ],
   "source": [
    "arrB_sorted= np.sort(arrB)\n",
    "arrB_sorted"
   ]
  },
  {
   "cell_type": "code",
   "execution_count": 15,
   "id": "735e3c64-4351-447f-9125-2352c6d674c4",
   "metadata": {},
   "outputs": [
    {
     "name": "stdout",
     "output_type": "stream",
     "text": [
      "[[ 7  6]\n",
      " [13  5]\n",
      " [ 7  3]]\n"
     ]
    },
    {
     "data": {
      "text/plain": [
       "array([6, 5, 3])"
      ]
     },
     "execution_count": 15,
     "metadata": {},
     "output_type": "execute_result"
    }
   ],
   "source": [
    "print(arrB)\n",
    "z= arrB<7\n",
    "arrC=arrB[z]\n",
    "arrC"
   ]
  },
  {
   "cell_type": "code",
   "execution_count": 16,
   "id": "04f427f2-8be9-4fb2-97e6-b25a9634b525",
   "metadata": {},
   "outputs": [
    {
     "name": "stdout",
     "output_type": "stream",
     "text": [
      "[[ 7  6]\n",
      " [13  5]\n",
      " [ 7  3]]\n"
     ]
    },
    {
     "data": {
      "text/plain": [
       "array([ 7, 13,  7])"
      ]
     },
     "execution_count": 16,
     "metadata": {},
     "output_type": "execute_result"
    }
   ],
   "source": [
    "print(arrB)\n",
    "z= arrB>=7\n",
    "arrD=arrB[z]\n",
    "arrD"
   ]
  },
  {
   "cell_type": "code",
   "execution_count": null,
   "id": "311b0763-207d-4d9e-aa1c-d2eff37c6176",
   "metadata": {},
   "outputs": [],
   "source": []
  }
 ],
 "metadata": {
  "kernelspec": {
   "display_name": "Python 3 (ipykernel)",
   "language": "python",
   "name": "python3"
  },
  "language_info": {
   "codemirror_mode": {
    "name": "ipython",
    "version": 3
   },
   "file_extension": ".py",
   "mimetype": "text/x-python",
   "name": "python",
   "nbconvert_exporter": "python",
   "pygments_lexer": "ipython3",
   "version": "3.13.0rc1"
  }
 },
 "nbformat": 4,
 "nbformat_minor": 5
}
