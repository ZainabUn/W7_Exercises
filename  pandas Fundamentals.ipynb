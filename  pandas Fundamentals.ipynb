{
 "cells": [
  {
   "cell_type": "code",
   "execution_count": 1,
   "id": "176e7c48-0dd1-40f9-be3d-86467882923f",
   "metadata": {},
   "outputs": [],
   "source": [
    "# Start by importing numpy (as np) AND pandas (as pd) into the notebook. \n",
    "# 2. Add a markdown cell with the header Series. Add a new code/markdown cell for \n",
    "# each of the following: \n",
    "# ∗ Start by creating four new variables named aa, ab, ac, and ad to hold some plain \n",
    "# Python objects.  - Assign aa the list 1,2,3,4.  - Assign ab the tuple 5,6,7,8.  - Assign ac the set 9,10,11,12.  - Assign ad a dictionary with the following key-value pairs:  \n",
    "# 'first': 13, 'second': 14, 'third': 15, 'fourth': 16  \n",
    "# ∗ Create four new variables named ser1, ser2, ser3, and ser4. Assign to each a \n",
    "# Series created from one of the previous four variables. - ser1 should use aa - ser2 should use ab - ser3 should use ac - ser4 should use ad  \n",
    "# Print each of new Series to see the result. \n",
    "# ∗ In a new cell, create a variable named ser5 and assign it the literal values 17, 18, \n",
    "# 19, 20. When you run the cell, what happens? Add a comment to the cell with the \n",
    "# specific TypeError message that arises. \n",
    "# 3. Add a markdown cell with the header DataFrames from Series. Add a new \n",
    "# code/markdown cell for each of the following: \n",
    "# ∗ Create new variable df1 and give it the value of a DataFrame using ser1. Then on \n",
    "# the next line, call df1 by simply typing in the variable name (no print function). \n",
    "# When you run the cell, a simple formatted DataFrame should be returned. \n",
    "# ∗ Add two new columns to df1 via the insert attribute using ser2 and ser3 for each \n",
    "# column. Call df1 to review the updated DataFrame. \n",
    "# ∗ Add a third new column to df1 using ser4. What happens this time when you call \n",
    "# df1? Add a comment explaining the difference between ser4 compared to the \n",
    "# other Series data used, and how this affected the outcome. \n",
    "# ∗ Add a new row 4 using the loc attribute with the values 5, 9, 12, 0. Call df1 to review \n",
    "# the updated DataFrame. \n",
    "# 4. Add a markdown cell with the header Reading Data into a DataFrame. Add a new \n",
    "# code/markdown cell for each of the following: \n",
    "# ∗ Create a new variable df2. Use the read_csv function to read the contents of \n",
    "# sakila_example.csv into df2. (Note that you will need to save the CSV file to the \n",
    "# same folder where Jupyter Notebook is running for this exercise.) Call df2 to review \n",
    "# the result. \n",
    "# ∗ Display the top 5 records from df2. \n",
    "# ∗ Display the last 10 records from df2. \n",
    "# ∗ Show summary information about df2 using the info attribute. \n",
    "# ∗ Add a markdown cell. Looking at the info results, what are a few facts you can \n",
    "# determine about this data? \n",
    "# ∗ Show column statistics on df2 using the describe attribute. \n",
    "# ∗ Add a markdown cell. Looking at the describe results, what are the useful insights \n",
    "# you can take away? What summarizations are likely not so useful? \n",
    "# ∗ Create a new variable df3. Use the read_csv function to read the contents of \n",
    "# northwind_example.csv into df3. (Note again that you will need to save the CSV file \n",
    "# to the same folder where Jupyter Notebook is running for this exercise.) Call df3 to \n",
    "# review the result. \n",
    "# ∗ Show column statistics on df3 using the describe attribute. \n",
    "# ∗ Add a markdown cell. Looking at the describe results, what are the useful insights \n",
    "# you can take away? How are the summarizations here different than for the \n",
    "# previous example, and why? \n",
    "# 5. Add a markdown cell with the header Coding a DataFrame. Add a new \n",
    "# code/markdown cell for each of the following: \n",
    "# ∗ Create a new variable named test_data and assign it a dictionary with the \n",
    "# following key-value pairs: \n",
    "# 'ID': [1, 2, 3, 4, 5, 6, 7, 8], \n",
    "# 'Name': ['Alicia', 'Bob', 'Charlie', 'Dominic', 'Eve', 'Frank', 'Grace', 'Heidi'], \n",
    "# 'Age': [25, np.nan, 22, 19, 31, 35, np.nan, 18], \n",
    "# 'City': ['NY', 'LA', 'Chicago', 'Houston', 'Phoenix', 'Boston', 'Austin', 'San Diego'], \n",
    "# 'Score': [85, 92, -1, 65, 78, np.nan, 55, 90] \n",
    "# ∗ Create a DataFrame named df4 using test_data. Call  df4 to review the result. \n",
    "# ∗ Export df4 to a CSV file named test_data.csv  "
   ]
  },
  {
   "cell_type": "code",
   "execution_count": 3,
   "id": "5ba59bc4-aa68-4211-bf0b-624ac5ee8cc5",
   "metadata": {},
   "outputs": [],
   "source": [
    "import pandas as pd\n",
    "import numpy as np\n"
   ]
  },
  {
   "cell_type": "markdown",
   "id": "924d21d3-a85f-468c-a159-70b538828706",
   "metadata": {},
   "source": [
    "# Series"
   ]
  },
  {
   "cell_type": "code",
   "execution_count": 6,
   "id": "9c46a12b-361a-4da3-a45b-5c18658064d0",
   "metadata": {},
   "outputs": [],
   "source": [
    "# ∗ Start by creating four new variables named aa, ab, ac, and ad to hold some plain \n",
    "# Python objects.  - Assign aa the list 1,2,3,4.  - Assign ab the tuple 5,6,7,8.  - Assign ac the set 9,10,11,12.  - Assign ad a dictionary with the following key-value pairs:  \n",
    "# 'first': 13, 'second': 14, 'third': 15, 'fourth': 16  \n",
    "aa= [1,2,3,4]\n",
    "ab= (5,6,7,8)\n",
    "ac= {9,10,11,12}\n",
    "ad={'first': 13,\n",
    "   'second': 14,\n",
    "   'third':15,\n",
    "'fourth':16}"
   ]
  },
  {
   "cell_type": "code",
   "execution_count": 9,
   "id": "f144d795-447b-4f4b-84a8-7ba14c30d710",
   "metadata": {
    "scrolled": true
   },
   "outputs": [
    {
     "name": "stdout",
     "output_type": "stream",
     "text": [
      "0    1\n",
      "1    2\n",
      "2    3\n",
      "3    4\n",
      "dtype: int64\n",
      "0    5\n",
      "1    6\n",
      "2    7\n",
      "3    8\n",
      "dtype: int64\n",
      "0     9\n",
      "1    10\n",
      "2    11\n",
      "3    12\n",
      "dtype: int64\n",
      "first     13\n",
      "second    14\n",
      "third     15\n",
      "fourth    16\n",
      "dtype: int64\n"
     ]
    }
   ],
   "source": [
    "# ∗ Create four new variables named ser1, ser2, ser3, and ser4. Assign to each a \n",
    "# Series created from one of the previous four variables. - ser1 should use aa - ser2 should use ab - ser3 should use ac - ser4 should use ad  \n",
    "# Print each of new Series to see the result. \n",
    "ser1=pd.Series(aa)\n",
    "ser2=pd.Series(ab)\n",
    "ser3=pd.Series(list(ac))\n",
    "ser4=pd.Series(ad)\n",
    "print(ser1)\n",
    "print(ser2)\n",
    "print(ser3)\n",
    "print(ser4)"
   ]
  },
  {
   "cell_type": "code",
   "execution_count": null,
   "id": "5763b0f2-8378-43ab-a36f-d52f90dbecb2",
   "metadata": {},
   "outputs": [],
   "source": []
  }
 ],
 "metadata": {
  "kernelspec": {
   "display_name": "Python 3 (ipykernel)",
   "language": "python",
   "name": "python3"
  },
  "language_info": {
   "codemirror_mode": {
    "name": "ipython",
    "version": 3
   },
   "file_extension": ".py",
   "mimetype": "text/x-python",
   "name": "python",
   "nbconvert_exporter": "python",
   "pygments_lexer": "ipython3",
   "version": "3.13.0rc1"
  }
 },
 "nbformat": 4,
 "nbformat_minor": 5
}
