{
 "cells": [
  {
   "cell_type": "markdown",
   "id": "0cbd5ec3-f33d-4e7c-a2f5-796cc43eb014",
   "metadata": {},
   "source": [
    "### Exercise 2.A NumPy fundamentals"
   ]
  },
  {
   "cell_type": "code",
   "execution_count": 3,
   "id": "094cb60d-f9a1-4d25-8d84-92b2fe68d69f",
   "metadata": {},
   "outputs": [],
   "source": [
    "import numpy as np"
   ]
  },
  {
   "cell_type": "markdown",
   "id": "910bcef7-56e7-4c34-ba2c-de489345ae71",
   "metadata": {},
   "source": [
    "# ARRAY BASICS "
   ]
  },
  {
   "cell_type": "code",
   "execution_count": 7,
   "id": "b63cea8e-bd22-4ac8-8970-cdc4f9d2ff71",
   "metadata": {},
   "outputs": [
    {
     "name": "stdout",
     "output_type": "stream",
     "text": [
      "['apple', 'banana', 'cherry', 'date']\n"
     ]
    }
   ],
   "source": [
    "fruits = ['apple', 'banana', 'cherry', 'date']\n",
    "print(fruits)"
   ]
  },
  {
   "cell_type": "code",
   "execution_count": 9,
   "id": "3cb5d417-3990-458b-b720-982b7e0d61a6",
   "metadata": {},
   "outputs": [
    {
     "data": {
      "text/plain": [
       "array(['apple', 'banana', 'cherry', 'date'], dtype='<U6')"
      ]
     },
     "execution_count": 9,
     "metadata": {},
     "output_type": "execute_result"
    }
   ],
   "source": [
    "arr_1= np.array(fruits)\n",
    "arr_1"
   ]
  },
  {
   "cell_type": "code",
   "execution_count": 10,
   "id": "1121cc9e-79a6-476a-8774-ae0e1e523dc7",
   "metadata": {},
   "outputs": [],
   "source": [
    "## datatype is U6. U stands for unicode and 6 stands for the number of strings"
   ]
  },
  {
   "cell_type": "code",
   "execution_count": 21,
   "id": "aa965016-c405-4cc7-bfb5-2840e8346e03",
   "metadata": {},
   "outputs": [
    {
     "data": {
      "text/plain": [
       "array([[10, 11, 12],\n",
       "       [13, 14, 15]])"
      ]
     },
     "execution_count": 21,
     "metadata": {},
     "output_type": "execute_result"
    }
   ],
   "source": [
    "arr_2 =np.array([[10,11,12],[13,14,15]])\n",
    "arr_2\n"
   ]
  },
  {
   "cell_type": "code",
   "execution_count": 18,
   "id": "a10e04bb-d542-458f-b2a1-5f1ed673b4fd",
   "metadata": {},
   "outputs": [
    {
     "name": "stdout",
     "output_type": "stream",
     "text": [
      "[[10 13]\n",
      " [11 14]\n",
      " [12 15]]\n"
     ]
    }
   ],
   "source": [
    "print(arr_2.T)"
   ]
  },
  {
   "cell_type": "code",
   "execution_count": 22,
   "id": "bcbf0854-3efd-42e5-90f1-cffb0d6c4bc8",
   "metadata": {},
   "outputs": [],
   "source": [
    "## it does alter the value a little bit as know the two arrays joins and we get each same index like first of the first and first of the second and second of the second and second of the first\n"
   ]
  },
  {
   "cell_type": "code",
   "execution_count": 29,
   "id": "a6b9aa8a-fc0e-4c2c-8cd1-936ea0bdf538",
   "metadata": {},
   "outputs": [
    {
     "data": {
      "text/plain": [
       "array([5, 4])"
      ]
     },
     "execution_count": 29,
     "metadata": {},
     "output_type": "execute_result"
    }
   ],
   "source": [
    "arr_3 =np.array([[1,3,5],[2,4,6]])\n",
    "arr_4= np.array([arr_3[0,2], arr_3[1,1]])\n",
    "arr_4\n"
   ]
  },
  {
   "cell_type": "code",
   "execution_count": 39,
   "id": "f94697ac-04e1-456c-9e49-fc092a7667fb",
   "metadata": {},
   "outputs": [
    {
     "name": "stdout",
     "output_type": "stream",
     "text": [
      "3\n"
     ]
    }
   ],
   "source": [
    "arr_5= np.array([[[1,1],[1,1]],[[1,1],[1,1]]])\n"
   ]
  },
  {
   "cell_type": "code",
   "execution_count": null,
   "id": "0b771b73-00f5-4ab7-a96f-ba5e5db652fd",
   "metadata": {},
   "outputs": [],
   "source": []
  }
 ],
 "metadata": {
  "kernelspec": {
   "display_name": "Python 3 (ipykernel)",
   "language": "python",
   "name": "python3"
  },
  "language_info": {
   "codemirror_mode": {
    "name": "ipython",
    "version": 3
   },
   "file_extension": ".py",
   "mimetype": "text/x-python",
   "name": "python",
   "nbconvert_exporter": "python",
   "pygments_lexer": "ipython3",
   "version": "3.13.0rc1"
  }
 },
 "nbformat": 4,
 "nbformat_minor": 5
}
